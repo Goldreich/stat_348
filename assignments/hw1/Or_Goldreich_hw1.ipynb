{
  "cells": [
    {
      "cell_type": "markdown",
      "metadata": {
        "id": "c7YuG2gECfNY"
      },
      "source": [
        "# **Homework 1:** The Hunt for the USS Scorpion (Part I)\n",
        "## Likelihood and prior odds, risk, decision theory, and intro to Python\n",
        "STATS348, UChicago, Spring 2023\n",
        "\n",
        "----------------\n",
        "Or Goldreich\n",
        "----------------"
      ]
    },
    {
      "cell_type": "markdown",
      "metadata": {
        "id": "QaITg9v-CfNc"
      },
      "source": [
        "## Instructions\n",
        "\n",
        "The purpose of this homework is to:\n",
        "\n",
        "* introduce you to Python in Jupyter notebooks\n",
        "* setup the story of the USS Scorpion, which we will build on in future homeworks\n",
        "* practice some foundational ideas in Bayesian decision/search theory\n",
        "\n",
        "We have written and coded a lot of this homework to provide you with structure and examples. \n",
        "\n",
        "Please read through it carefully and provide answers to questions where marked. \n",
        "\n",
        "Good hunting! "
      ]
    },
    {
      "cell_type": "markdown",
      "metadata": {
        "id": "GvY9TXpHCfNd"
      },
      "source": [
        "## Setting\n",
        "\n",
        "It is May 1968 and the USS _Scorpion_ has just disappeared somewhere in the Atlantic Ocean, likely off the coast of Spain. You are the lone statistician on board the USS _Mizar_, which has been dispatched to find the missing submarine. Your job is to guide the search as best you can, given the data at your disposal.\n",
        "\n",
        "Before doing anything else, you should import some useful Python libraries."
      ]
    },
    {
      "cell_type": "code",
      "execution_count": null,
      "metadata": {
        "id": "esEnpAhuCfNe"
      },
      "outputs": [],
      "source": [
        "# library for dataframes\n",
        "import pandas as pd\n",
        "\n",
        "# scientific computing libraries\n",
        "import numpy as np\n",
        "import numpy.random as rn\n",
        "import scipy.stats as st\n",
        "\n",
        "# plotting libraries\n",
        "import matplotlib.pyplot as plt\n",
        "import seaborn as sns"
      ]
    },
    {
      "cell_type": "markdown",
      "metadata": {
        "id": "5kWDsQBJCfNf"
      },
      "source": [
        "## Magnetometer measurements\n",
        "The _Mizar_ is pulling a magnetometer behind it underwater as it searches. A magnetometer is an instrument that measures magnetic field in units of nanoTesla (nT). When a magnetometer is nearby a large metal object, like a missing submarine, it (should) produce large values. \n",
        "\n",
        "The technician has informed you when there is no large metal object nearby ($Z=0$), the measurements are exponentially distributed:\n",
        "\n",
        "\\begin{align}\n",
        "P(y_1,\\dots,y_n \\mid Z=0) = \\prod_{i=1}^n \\textrm{Expon}(y_i;\\,\\alpha_0)\n",
        "\\end{align}\n",
        "\n",
        "The _scale_ parameter $\\alpha_0=1$ has been tuned for you to match the background noise in the ocean.\n",
        "\n",
        "The following function implements the **log likelihood** for the null ($Z=0$) model described above. It uses the [scipy.stats](https://docs.scipy.org/doc/scipy/reference/stats.html) library, which contains many useful functions for probability and statistics."
      ]
    },
    {
      "cell_type": "code",
      "execution_count": null,
      "metadata": {
        "id": "gNr_VXufCfNf"
      },
      "outputs": [],
      "source": [
        "def magnetometer_null_log_likelihood(data, alpha0=1.0):\n",
        "    \"\"\"Calculate the log likelihood under the null (Z=0) model.\n",
        "    \n",
        "    Args:\n",
        "        data (array-like): Data to calculate the likelihood for.\n",
        "        alpha0 (float): Shape parameter of the exponential distribution.\n",
        "                        Default: 1.0 (tuned to match background noise in ocean.\n",
        "    \n",
        "    Returns:\n",
        "        float: Log likelihood of the data under the null model.\n",
        "    \"\"\"\n",
        "    return st.expon(scale=alpha0).logpdf(data).sum()"
      ]
    },
    {
      "cell_type": "markdown",
      "metadata": {
        "id": "H1WCq71rCfNg"
      },
      "source": [
        "The technician has further informed you that in previous trials, under controlled settings where the distance to a large metal object is known, the measurements are exponentially distributed, with scale parameter that depends on distance $D$ to the object \n",
        "\n",
        "\\begin{align}\n",
        "\\underbrace{P(y_i \\mid Z=1, D_i)}_{\\textrm{complete data likelihood}}= \\textrm{Expon}(y_i;\\,\\underbrace{\\alpha_0 + \\alpha D_i^{-3}}_{\\textrm{scale parameter}})\n",
        "\\end{align}\n",
        "\n",
        "The coefficient $\\alpha$ has been tuned for our purposes to take into account the size and shape of the _Scorpion_, $\\alpha=1.23$.\n",
        "\n",
        "This is the ``complete data likelihood'' since it depends on distance which, in practice, we do not observe. Instead, we would like to work with the marginal likelihood:\n",
        "\n",
        "\\begin{align}\n",
        "\\underbrace{P(y_i \\mid Z=1)}_{\\textrm{marginal data likelihood}}= \\int P(y_i \\mid Z=1, D_i) \\, P(D_i) \\,dD_i \n",
        "\\end{align}\n",
        "\n",
        "We don't know where the Mizar was in the (1mi x 1mi) cell when it took each measurement, and don't know where the Scorpion is either, so appealing to the ``principle of insufficient reason'', we will define our prior $P(D_i)$ to be based on the **distribution of distance between two points drawn uniformly at random in a square**. \n",
        "\n",
        "We provide a function to sample from this distribution and plot a histogram below."
      ]
    },
    {
      "cell_type": "code",
      "execution_count": null,
      "metadata": {
        "colab": {
          "base_uri": "https://localhost:8080/",
          "height": 472
        },
        "id": "x1b8UW9uCfNh",
        "outputId": "b6b59101-ba29-4413-e59d-34f359de9139"
      },
      "outputs": [
        {
          "output_type": "display_data",
          "data": {
            "text/plain": [
              "<Figure size 640x480 with 1 Axes>"
            ],
            "image/png": "[encoded data removed]"
          },
          "metadata": {}
        }
      ],
      "source": [
        "def sample_distance_in_cell(size=1):\n",
        "    \"\"\"Sample the distance in km between the USS Mizar and the USS Scorpion in the (1mi x 1mi) cell.\n",
        "\n",
        "        - This accounts for 0.25km of average ocean depth\n",
        "\n",
        "    Args:\n",
        "        size (int): Number of samples to generate. Default: 1.\n",
        "    \n",
        "    Returns:\n",
        "        array-like: Samples of the distance in kilometers between two points in the (1mi x 1mi) cell.\n",
        "    \"\"\"\n",
        "    mi_to_km = 1.60934\n",
        "    coords_mizar = mi_to_km * st.uniform.rvs(size=(size, 2)) # the (x,y) coordinates of the mizar\n",
        "    coords_scorp = mi_to_km * st.uniform.rvs(size=(size, 2)) # the (x,y) coordinates of the scorpion\n",
        "\n",
        "    distance = np.sqrt(0.25 + np.sum((coords_mizar - coords_scorp) ** 2, axis=1))\n",
        "    return distance\n",
        "\n",
        "rn.seed(617)  # do not change this line!\n",
        "n_samples = 100000\n",
        "distances = sample_distance_in_cell(size=n_samples)\n",
        "_ = plt.hist(distances, bins=20, density=True)\n",
        "_ = plt.xlabel('Distance (km)')\n",
        "_ = plt.ylabel('Density')\n",
        "_ = plt.title('Distance between Mizar and Scorpion in cell')\n"
      ]
    },
    {
      "cell_type": "markdown",
      "metadata": {
        "id": "aPDJpgzgCfNi"
      },
      "source": [
        "## Approximation\n",
        "Instead of trying to form the marginal likelihood analytically, we will approximate it as\n",
        "\\begin{align}\n",
        "\\underbrace{P(y_i \\mid Z=1)}_{\\textrm{marginal data likelihood}}= \\int P(y_i \\mid Z=1, D_i) \\, P(D_i) \\,dD_i \\approx \\sum_{k=1}^K P(y_i \\mid Z=1, D=d_k) \\, \\pi_k\n",
        "\\end{align}\n",
        "where here we have a discrete set of distances $\\{d_k\\}_{k=1}^K$, each corresponding to a probability $\\pi_k$ where $\\sum_{k=1}^K \\pi_k=1$. "
      ]
    },
    {
      "cell_type": "markdown",
      "metadata": {
        "id": "0FaOwi1eCfNi"
      },
      "source": [
        "## Question 1 [Write] (10pts):\n",
        "We provide a way to construct $\\{d_k\\}_{k=1}^K$ and $\\{\\pi_k\\}_{k=1}^K$ from samples below. \n",
        "\n",
        "Take time to review each line, and then provide a description of what the function is doing. \n",
        "\n",
        "Your answer should include: \n",
        "\n",
        "* a high-level description of the algorithm\n",
        "* explanations of what the numpy functions `linspace` and `histogram` are doing\n",
        "* what the special indexing `[:-1]` and `[1:]` is doing\n",
        "* what the output of the function is in terms of the math above\n",
        "\n",
        "----------------\n",
        "Overview:\n",
        "\n",
        "We first sample distances randomly using the function `sample_distance_in_cell`. We then use the function `discrete_approximation` in order to split said samples into $K$ evenly-spaced bins, taking $\\{d_k\\}_{k=1}^K$ as the centres of said bins, and $\\{\\pi_k\\}_{k=1}^K$ as the proportion of samples from within each bin in our random sampling process.\n",
        "\n",
        "Details:\n",
        "\n",
        "The function `linspace` returns an evenly spaced sequence of $K+1$ numbers beginning at the minimal element in `samples`and ending at the maximal element in `samples`.\n",
        "\n",
        "The function `histogram` returns a list representation (that is, every element of the list corresponding to the number of items in `sample` in the corresponding bin) of a histogram with its bin edges set to those given in the input `bins` - in this case, the arithmetic sequence of length $K+1$ between the extremal values in `samples`, giving us a total of $K$ bins.\n",
        "\n",
        "The indexing `[:-1]` and `[1:]` is used to exclude the last and first entries respectively. This is useful, as by averaging the walls of each bin in the histogram (by respectively averaging the first and the second for bin $1$, the second and the third for bin $2$ and so forth), we get the centre of each bin as a representative for the distance said bin is supposed to reflect.\n",
        "\n",
        "The outputs `bin_centers` and `probabilities` are $\\{d_k\\}_{k=1}^K$ and $\\{\\pi_k\\}_{k=1}^K$ respectively, as `bin_centers` takes a representative distance from each bin, and `probabilities` gives the set of empirically measured probabilities of extracting a distance at random from each of the respective bins.\n",
        "\n",
        "\n",
        "----------------"
      ]
    },
    {
      "cell_type": "code",
      "execution_count": null,
      "metadata": {
        "colab": {
          "base_uri": "https://localhost:8080/",
          "height": 485
        },
        "id": "Vse9rJn_CfNj",
        "outputId": "762bf409-6bbe-43e3-ddc2-0450947231ad"
      },
      "outputs": [
        {
          "output_type": "stream",
          "name": "stderr",
          "text": [
            "<ipython-input-5-193633de753e>:10: MatplotlibDeprecationWarning: The 'use_line_collection' parameter of stem() was deprecated in Matplotlib 3.6 and will be removed two minor releases later. If any parameter follows 'use_line_collection', they should be passed as keyword, not positionally.\n",
            "  _ = plt.stem(bin_centers, probabilities, use_line_collection=True)\n"
          ]
        },
        {
          "output_type": "display_data",
          "data": {
            "text/plain": [
              "<Figure size 640x480 with 1 Axes>"
            ],
            "image/png": "[encoded data removed]"
          },
          "metadata": {}
        }
      ],
      "source": [
        "def discrete_approximation(samples, K):\n",
        "    bins = np.linspace(np.min(samples), np.max(samples), K+1)\n",
        "    counts, _ = np.histogram(samples, bins=bins)\n",
        "    probabilities = counts / counts.sum()\n",
        "    bin_centers = (bins[:-1] + bins[1:]) / 2\n",
        "    return bin_centers, probabilities\n",
        "\n",
        "distances = sample_distance_in_cell(size=10000)\n",
        "bin_centers, probabilities = discrete_approximation(distances, K=25)\n",
        "_ = plt.stem(bin_centers, probabilities, use_line_collection=True)\n"
      ]
    },
    {
      "cell_type": "markdown",
      "metadata": {
        "id": "MJgetZcvCfNj"
      },
      "source": [
        "## Question 2a [Code] (20pts):\n",
        "\n",
        "Use the discrete approximation above to implement the approximate marginal likelihood for $Z=1$. For a single data-point that is:\n",
        "\n",
        "\\begin{align}\n",
        "P(y_i \\mid Z=1) \\approx \\sum_{k=1}^K \\textrm{Expon}(y_i; \\alpha_0 + \\alpha d_k^{-3}) \\pi_k\n",
        "\\end{align}\n",
        "\n",
        "where recall that $\\alpha_0=1$ and $\\alpha = 1.23$. \n",
        "\n",
        "Your function should accept multiple data points $y_1,\\dotsm,y_n$ and return the **log approximate marginal likelihood**:\n",
        "\n",
        "\\begin{equation}\n",
        "\\log P(y_1,\\dots,y_n \\mid Z=1) \\approx \\sum_{i=1}^n \\log \\sum_{k=1}^K \\textrm{Expon}(y_i; \\alpha_0 + \\alpha d_k^{-3}) \\pi_k\n",
        "\\end{equation}"
      ]
    },
    {
      "cell_type": "code",
      "execution_count": null,
      "metadata": {
        "id": "0yOgq5sJCfNk"
      },
      "outputs": [],
      "source": [
        "def magnetometer_log_approx_marginal_likelihood(data, distances, pi, alpha=1.23, alpha0=1.0):\n",
        "    \"\"\"Calculate the log approximate marginal likelihood under the (Z=1) model.\n",
        "    \n",
        "       Args:\n",
        "        data (array-like): Data to calculate the likelihood for.\n",
        "        distances (array-like): Distance d_k values in the discrete approximation.\n",
        "        pi (array-like): Probability pi_k values in the discrete approximation.\n",
        "        alpha (float): Coefficient on distance.\n",
        "                       Default: 1.23 (tuned to match Scorpion).\n",
        "        alpha0 (float): Background noise level.\n",
        "                        Default: 1.0 (tuned to match background noise in ocean).\n",
        "    \n",
        "    Returns:\n",
        "        float: Log approximate marginal likelihood of the data under the (Z=1) model.\n",
        "    \"\"\"\n",
        "\n",
        "    # Your code here #\n",
        "    n = len(data)\n",
        "    k = len(distances)\n",
        "    app_lik = np.zeros(n)\n",
        "    for i in range(n):\n",
        "      for j in range(k):\n",
        "        app_lik[i] = app_lik[i]+(st.expon(scale=alpha0+alpha*(distances[j])**(-3)).pdf(data[i])*pi[j])\n",
        "    return np.log(app_lik).sum()"
      ]
    },
    {
      "cell_type": "markdown",
      "metadata": {
        "id": "_E7GBww3CfNk"
      },
      "source": [
        "## Question 2b [Code] (10pts):\n",
        "\n",
        "Implement a function that computes the likelihood odds (LO) ratio for an input set of data\n",
        "\n",
        "\\begin{equation}\n",
        "\\textrm{LO}(y_1,\\dots,y_n) = \\frac{P(y_1,\\dots,y_n \\mid Z=1)}{P(y_1,\\dots,y_n \\mid Z=0)}\n",
        "\\end{equation}\n",
        "\n",
        "Your function should call the functions\n",
        "* `magnetometer_null_log_likelihood`\n",
        "* `magnetometer_log_approx_marginal_likelihood`\n",
        "\n",
        "Your function should take `data` as an argument. If you add other arguments, then add a description of them in the docstring."
      ]
    },
    {
      "cell_type": "code",
      "execution_count": null,
      "metadata": {
        "id": "2eWAinmKCfNk"
      },
      "outputs": [],
      "source": [
        "def magnetometer_likelihood_odds(data, distances, pi):\n",
        "    \"\"\"Calculate the likelihood odds ratio for the magnetometer data.\n",
        "    \n",
        "    Args:\n",
        "        data (array-like): Data to calculate the likelihood odds for.\n",
        "\n",
        "        OTHER ARGS: You may need to add other arguments to this function.\n",
        "        distances (array-like): Distance d_k values in the discrete approximation.\n",
        "        pi (array-like): Probability pi_k values in the discrete approximation.\n",
        "    \n",
        "    Returns:\n",
        "        float: Likelihood odds.\n",
        "    \"\"\"\n",
        "    \n",
        "    # Your code here #\n",
        "    return np.exp(magnetometer_log_approx_marginal_likelihood(data, distances, pi)-magnetometer_null_log_likelihood(data))"
      ]
    },
    {
      "cell_type": "markdown",
      "metadata": {
        "id": "E3KlssT9CfNl"
      },
      "source": [
        "## Question 2c [Write] (5pts):\n",
        "\n",
        "Run the following code to calculate the likelihood odds on the magnetometer data that just arrived. \n",
        "\n",
        "* Explain what the data say about the hypothesis $Z=1$.\n",
        "\n",
        "----------------\n",
        "The likelihood odds are $0.1$, which means that these samples are ten times less likely to have come up as a result of the alternate as compared to the null.\n",
        "\n",
        "----------------\n",
        "\n",
        "* Explain what the data say about the hypothesis $Z=1$ when also taking into account the Captain's prior odds of 1/20.\n",
        "\n",
        "----------------\n",
        "The data is more optimistic than the captain - following our data, the odds are only $10$ to $1$ against.\n",
        "\n",
        "----------------"
      ]
    },
    {
      "cell_type": "code",
      "execution_count": null,
      "metadata": {
        "colab": {
          "base_uri": "https://localhost:8080/"
        },
        "id": "u4nXYL3lCfNl",
        "outputId": "5c8f83da-f3f0-45a1-f3cc-5c09c2e21336"
      },
      "outputs": [
        {
          "output_type": "stream",
          "name": "stdout",
          "text": [
            "Likelihood odds: 0.10\n"
          ]
        }
      ],
      "source": [
        "data = np.load('magnetometer_data.npy')\n",
        "print('Likelihood odds: {:.2f}'.format(magnetometer_likelihood_odds(data, bin_centers, probabilities)))"
      ]
    },
    {
      "cell_type": "markdown",
      "metadata": {
        "id": "lboqPJEpCfNl"
      },
      "source": [
        "## Do we send the divers?\n",
        "In this problem, we will use Bayesian decision theory to make a principled decision about whether to send divers to search for the Scorpion. Our decision will integrate \n",
        "* the likelihood odds of the magnetometer data\n",
        "* the Captain's prior odds\n",
        "* our loss function\n",
        "* the ``Search effectiveness probability''\n",
        "\n",
        "## Question 3a [Math] (20pts)\n",
        "\n",
        "Recall that our loss function $\\ell(a,z)$ is a function of whether or not we search $a=0,1$ and whether or not the Scorpion is in the cell $z=0,1$.\n",
        "\n",
        "|  $\\ell(a,z)$ | $z=0$ | $z=1$ |\n",
        "| ----- | -------- | -------- |\n",
        "| $a=0$ | $L_{\\textrm{TN}}$   | $L_{\\textrm{FN}}$   |\n",
        "| $a=1$ | $L_{\\textrm{FP}}$   | $L_{\\textrm{TP}}$   |\n",
        "\n",
        "Further recall that the ``search effectiveness probability'' (SEP) is $q = P(\\tilde{Z}=1 \\mid Z=1, a=1)$ where $\\tilde{Z}=1$ denotes successfully finding the Scorpion and $\\tilde{Z}=0$ denotes failing to find it. Incorporating the SEP into our decision problem effectively means re-defining the loss associated with the true positive cell $L_{\\textrm{TP}}$ in terms of losses associated with \"successful\" and \"failed\" true positives:\n",
        "\n",
        "\\begin{equation}\n",
        "L_{\\textrm{TP}} = q L_{\\textrm{STP}} + (1-q) L_{\\textrm{FTP}} \n",
        "\\end{equation}\n",
        "\n",
        "Finally, recall the definition of **Bayesian expected loss**:\n",
        "\\begin{equation}\n",
        "\\rho(\\pi^*, a) = E_{Z \\sim \\pi^*}[\\ell(a,Z)]\n",
        "\\end{equation}\n",
        "where the expectation is with respect to our posterior distribution $\\pi^* = P(Z=1\\mid y_1, \\dots, y_n)$.\n",
        "\n",
        "**Derive the threshold $T$ on the likelihood odds, which if exceeded means that we should send the divers:**\n",
        "\n",
        "\\begin{align}\n",
        "a^* = \\begin{cases}\n",
        "1 &\\textrm{if } \\frac{P(y_1,\\dots,y_n \\mid Z=1)}{P(y_1,\\dots,y_n \\mid Z=0)} > T \\\\\n",
        "0 &\\textrm{otherwise }\n",
        "\\end{cases}\n",
        "\\end{align}\n",
        "\n",
        "----------------\n",
        "We are interested in minimising the Bayesian expected loss.\n",
        "\n",
        "If we choose not to search, this is:\n",
        "$$\\rho_0=\\rho\\left(\\pi^*,0\\right)=\\left(1-\\pi^*\\right)L_{TN}+\\pi^*L_{FN}$$\n",
        "\n",
        "If we choose to search, this is:\n",
        "$$\\rho_1=\\rho\\left(\\pi^*,1\\right)=\\pi^*L_{TP}+\\left(1-\\pi^*\\right)L_{FP}=\\pi^*\\left(qL_{STP}+\\left(1-q\\right)L_{FTP}\\right)+\\left(1-\\pi^*\\right)L_{FP}$$\n",
        "\n",
        "Then searching minimises this argument if:\n",
        "$$\\rho_1<\\rho_0\\iff\\left(1-\\pi^*\\right)L_{TN}+\\pi^*L_{FN}<\\pi^*\\left(qL_{STP}+\\left(1-q\\right)L_{FTP}\\right)+\\left(1-\\pi^*\\right)L_{FP}\\iff\\pi^*\\left(qL_{STP}+\\left(1-q\\right)L_{FTP}-L_{FN}\\right)>\\left(1-\\pi^*\\right)\\left(L_{TN}-L_{FP}\\right)\\iff\\frac{\\pi^*}{1-\\pi^*}>\\frac{L_{TN}-L_{FP}}{qL_{STP}+\\left(1-q\\right)L_{FTP}-L_{FN}}$$\n",
        "\n",
        "If we now denote the prior distribution $\\pi=P\\left(Z=1\\right)$ then using Bayes' theorem, we get:\n",
        "\n",
        "$$\\frac{P(y_1,\\ldots,y_n \\mid Z=1)}{P(y_1,\\ldots,y_n \\mid Z=0)}=\\frac{\\frac{P(Z=1\\,\\mid\\,y_1,\\ldots,y_n)P\\left(y_1,\\ldots,y_n\\right)}{P\\left(Z=1\\right)}}{\\frac{P(Z=0\\,\\mid\\,y_1,\\ldots,y_n)P\\left(y_1,\\ldots,y_n\\right)}{P\\left(Z=0\\right)}}=\\frac{\\pi^*}{1-\\pi^*}\\cdot\\frac{1-\\pi}{\\pi}$$\n",
        "\n",
        "Plugging in the requirement for minimising the Bayesian expected loss, we get:\n",
        "\n",
        "$$\\frac{P(y_1,\\ldots,y_n \\mid Z=1)}{P(y_1,\\ldots,y_n \\mid Z=0)}>\\frac{L_{TN}-L_{FP}}{qL_{STP}+\\left(1-q\\right)L_{FTP}-L_{FN}}\\cdot\\frac{1-\\pi}{\\pi}$$\n",
        "\n",
        "So $T=\\frac{L_{TN}-L_{FP}}{qL_{STP}+\\left(1-q\\right)L_{FTP}-L_{FN}}\\cdot\\frac{1-\\pi}{\\pi}$.\n",
        "\n",
        "We also observe that $\\frac{1-\\pi}{\\pi}$ is the reciprocal of the prior odds.\n",
        "\n",
        "----------------"
      ]
    },
    {
      "cell_type": "markdown",
      "metadata": {
        "id": "KFlhOGlWCfNl"
      },
      "source": [
        "## Question 3b [Code] (10pts)\n",
        "\n",
        "Implement a function that calculates this threshold. \n",
        "\n",
        "Your function should take as an argument a loss function which is a Python dictionary (as shown below)."
      ]
    },
    {
      "cell_type": "code",
      "execution_count": null,
      "metadata": {
        "id": "QPks-vLnCfNm"
      },
      "outputs": [],
      "source": [
        "loss_func = {\n",
        "    'TN': 1,  # true negative\n",
        "    'FP': 25, # false positive\n",
        "    'FN': 100, # false negative\n",
        "    'STP': 1, # successful true positive\n",
        "    'FTP': 10 # failed true positive\n",
        "             }\n",
        "\n",
        "def likelihood_odds_threshhold(loss_func, prior_odds, sep):\n",
        "    \"\"\"Calculate the likelihood odds threshold for a given loss function and prior odds.\n",
        "    \n",
        "    Args:\n",
        "        loss_func (dict): Dictionary of loss values.\n",
        "        prior_odds (float): Prior odds.\n",
        "        sep (float): Search effectiveness probability.\n",
        "    \"\"\"\n",
        "    \n",
        "    # Your code here\n",
        "    return (loss_func[\"TN\"]-loss_func[\"FP\"])/((sep*loss_func[\"STP\"]+(1-sep)*loss_func[\"FTP\"]-loss_func[\"FN\"])*prior_odds)"
      ]
    },
    {
      "cell_type": "markdown",
      "metadata": {
        "id": "oWp4jutpCfNm"
      },
      "source": [
        "## Question 3c [Write] (10pts)\n",
        "\n",
        "Using the likelihood odds of the magnetometer data, the Captain's prior odds of $\\tfrac{1}{20}$, and a SEP of $0.75$, and the loss function given below, use your code to answer the question: **should we send the divers?**\n",
        "\n",
        "----------------\n",
        "We get a threshhold of $12.874$, which is far greater than the likelihood odds ratio we found earlier, which is $0.1$. This means that we do not cross said threshhold, and elect not to send the divers.\n",
        "\n",
        "----------------"
      ]
    },
    {
      "cell_type": "code",
      "execution_count": null,
      "metadata": {
        "id": "ZPItKsjECfNm",
        "outputId": "23d8172c-430e-4a98-c71a-98472ecc6db9",
        "colab": {
          "base_uri": "https://localhost:8080/"
        }
      },
      "outputs": [
        {
          "output_type": "execute_result",
          "data": {
            "text/plain": [
              "12.873563218390803"
            ]
          },
          "metadata": {},
          "execution_count": 10
        }
      ],
      "source": [
        "loss_func = {\n",
        "    'TN': 1,  # true negative\n",
        "    'FP': 15, # false positive\n",
        "    'FN': 25, # false negative\n",
        "    'STP': 1, # successful true positive\n",
        "    'FTP': 10 # failed true positive\n",
        "             }\n",
        "\n",
        "# Your code here\n",
        "likelihood_odds_threshhold(loss_func, 0.05, 0.75)"
      ]
    },
    {
      "cell_type": "markdown",
      "metadata": {
        "id": "7_9AS6GnCfNm"
      },
      "source": [
        "## Question 3d [Write] (15pts)\n",
        "\n",
        "Explore some of the parameter settings (e.g., loss function, SEP, prior) and find a setting that changes your answer. Explain what the parameter changes are, and why they change the answer. Show the code below that led to your conclusion.\n",
        "\n",
        "----------------\n",
        "To change the answer, we are interested in reducing the threshhold. This can be done with several tools:\n",
        "\n",
        "* The prior odds are inversely linked with the threshhold, so we can increase those.\n",
        "* Given the reasonable assumption that $L_{STP}<L_{FTP}$, SEP is inversely linked with the threshhold, so we can increase it as well.\n",
        "* Having a higher tolerance to failed missions in comparison to missed opportunities for success, which could be understood as a higher loss score for false negatives and/or lower loss scores for false positives and failed true positives.\n",
        "\n",
        "We employ all of these as follows:\n",
        "\n",
        "* Increase the prior odds to $\\frac14$.\n",
        "* Increase SEP to $0.95$.\n",
        "* Increase $L_{FN}$ to $125$.\n",
        "* Decrease $L_{FP}$ and $L_{FTP}$ to $4$.\n",
        "\n",
        "This results in a threshhold of $\\sim0.097$, which is below the likelihood odds, that are $0.1$.\n",
        "\n",
        "----------------"
      ]
    },
    {
      "cell_type": "code",
      "execution_count": null,
      "metadata": {
        "id": "UE1CDOAsCfNm",
        "outputId": "dc3178b4-51dd-410b-b0cd-0bc788b95127",
        "colab": {
          "base_uri": "https://localhost:8080/"
        }
      },
      "outputs": [
        {
          "output_type": "execute_result",
          "data": {
            "text/plain": [
              "0.09689140088817118"
            ]
          },
          "metadata": {},
          "execution_count": 33
        }
      ],
      "source": [
        "# Your code here\n",
        "loss_func = {\n",
        "    'TN': 1,  # true negative\n",
        "    'FP': 4, # false positive\n",
        "    'FN': 125, # false negative\n",
        "    'STP': 1, # successful true positive\n",
        "    'FTP': 4 # failed true positive\n",
        "             }\n",
        "\n",
        "likelihood_odds_threshhold(loss_func, 0.25, 0.95)\n"
      ]
    }
  ],
  "metadata": {
    "colab": {
      "provenance": []
    },
    "kernelspec": {
      "display_name": "base",
      "language": "python",
      "name": "python3"
    },
    "language_info": {
      "codemirror_mode": {
        "name": "ipython",
        "version": 3
      },
      "file_extension": ".py",
      "mimetype": "text/x-python",
      "name": "python",
      "nbconvert_exporter": "python",
      "pygments_lexer": "ipython3",
      "version": "3.9.13"
    },
    "vscode": {
      "interpreter": {
        "hash": "e31d8529818713d98a38061e476a303cb7aebfe46db2981fe05de46bbfa528ef"
      }
    }
  },
  "nbformat": 4,
  "nbformat_minor": 0
}