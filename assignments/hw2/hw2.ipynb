{
  "cells": [
    {
      "cell_type": "markdown",
      "metadata": {
        "id": "view-in-github",
        "colab_type": "text"
      },
      "source": [
        "<a href=\"https://colab.research.google.com/github/Goldreich/stat_348/blob/main/assignments/hw2/hw2.ipynb\" target=\"_parent\"><img src=\"https://colab.research.google.com/assets/colab-badge.svg\" alt=\"Open In Colab\"/></a>"
      ]
    },
    {
      "cell_type": "markdown",
      "metadata": {
        "id": "XZctkqN8UKIL"
      },
      "source": [
        "# **Homework 2:** The Hunt for the USS Scorpion (Part II)\n",
        "## Logistic regression, beta-binomial updating, and empirical Bayes\n",
        "STATS348, UChicago, Spring 2023\n",
        "\n",
        "----------------\n",
        "Or Goldreich\n",
        "\n",
        "----------------\n",
        "\n",
        "<a href=\"https://colab.research.google.com/github/aschein/stat_348/blob/main/assignments/hw2/hw2.ipynb\" target=\"_parent\"><img src=\"https://colab.research.google.com/assets/colab-badge.svg\" alt=\"Open In Colab\"/></a>\n",
        "\n",
        "---"
      ]
    },
    {
      "cell_type": "markdown",
      "metadata": {
        "id": "6B7jAollUKIU"
      },
      "source": [
        "## Instructions\n",
        "\n",
        "The purpose of this homework is to apply the concepts raised in [lecture 3](https://github.com/aschein/stat_348/blob/main/materials/3_logreg_and_beta_binomial.pdf):\n",
        "\n",
        "* logistic regression\n",
        "* overfitting\n",
        "* beta-Binomial conjugacy\n",
        "* empirical Bayes\n",
        "\n",
        "This homework will also familiarize you with the Python package [scikit-learn](https://scikit-learn.org/stable/).\n",
        "\n",
        "Assignment is due **Monday April 3, 11:59pm** on Canvas."
      ]
    },
    {
      "cell_type": "markdown",
      "metadata": {
        "id": "VeDJZpLeUKIV"
      },
      "source": [
        "## Setting\n",
        "\n",
        "It is May 1968 and the USS _Scorpion_ has just disappeared somewhere in the Atlantic Ocean, likely off the coast of Spain. You are the lone statistician on board the USS _Mizar_, which has been dispatched to find the missing submarine. Your job is to guide the search as best you can, given the data at your disposal.\n",
        "\n",
        "## Search effectiveness probability (SEP)\n",
        "As we saw last week, an important component of our decision problem is the _search effectiveness probability_ of each search cell $k$\n",
        "\n",
        "\\begin{equation}\n",
        "q_k = P(\\textrm{finding the sub in $k$} \\mid \\textrm{sub is in $k$}, \\textrm{divers search $k$})\n",
        "\\end{equation}\n",
        "\n",
        "There are a number of factors that go into the SEP. The ocean floor is deeper in some cells, the ocean current is stronger, the water is murkier, etc. It's important we understand how easy it would be to actually detect the submarine in each cell before we send divers to look for it.\n",
        "\n",
        "In this assignment, we will explore two different ways of modeling $q_k$\n",
        "* Supervised learning, with logistic regression\n",
        "* Beta-binomial updating, and empirical Bayes"
      ]
    },
    {
      "cell_type": "code",
      "execution_count": 1,
      "metadata": {
        "id": "L4nRP9aLUKIX"
      },
      "outputs": [],
      "source": [
        "# library for dataframes\n",
        "import pandas as pd\n",
        "\n",
        "# scientific computing libraries\n",
        "import numpy as np\n",
        "import numpy.random as rn\n",
        "import scipy.stats as st\n",
        "import scipy.special as sp\n",
        "import scipy.optimize as opt\n",
        "\n",
        "# plotting libraries\n",
        "import matplotlib.pyplot as plt\n",
        "import seaborn as sns\n",
        "\n",
        "# progress bars for loops\n",
        "from tqdm.notebook import tqdm\n"
      ]
    },
    {
      "cell_type": "markdown",
      "metadata": {
        "id": "MhCRDBS5UKIa"
      },
      "source": [
        "# Part I: Learning SEPs with logistic regression\n",
        "\n",
        "## Setting\n",
        "\n",
        "In this part of the assignment, we will define SEPs across cells to be a function of covariates\n",
        "\n",
        "\\begin{equation}\n",
        "q_k \\triangleq q(\\boldsymbol{x}_k)\n",
        "\\end{equation}\n",
        "\n",
        "where $\\boldsymbol{x}_k \\in \\mathbb{R}^p$ are covariates associated with each search cell that measure aspects which relate to divers' ability to find things (e.g., seafloor depth, strength of current, etc.), and perhaps polynomial expansions and interactions between those base covariates.\n",
        "\n",
        "In this section, we will work with **binary trial data**. In each of $K=100$ cells, we have dropped one large object and seen whether divers were able to recover it. Define the outcome to be\n",
        "\n",
        "\\begin{align}\n",
        "y_k &= \\begin{cases}\n",
        "1& \\textrm{ if divers recovered the object}\\\\\n",
        "0& \\textrm{ otherwise}\n",
        "\\end{cases}\n",
        "\\end{align}\n",
        "\n",
        "We will work with **logistic regression** models that make the following assumption:\n",
        "\n",
        "\\begin{align}\n",
        "q_k \\equiv P(y_k = 1 \\mid \\boldsymbol{x}_k) = \\frac{\\exp{\\beta_0 + \\boldsymbol{\\beta}_1^\\top \\boldsymbol{x}_k}}{1 + \\exp{\\beta_0 + \\boldsymbol{\\beta}_1^\\top \\boldsymbol{x}_k}}\n",
        "\\end{align}\n",
        "\n",
        "Or, equivalently that\n",
        "\\begin{align}\n",
        "\\log (\\tfrac{q_k}{1-q_k}) = \\beta_0 + \\boldsymbol{\\beta}_1^\\top \\boldsymbol{x}_k\n",
        "\\end{align}\n",
        "\n"
      ]
    },
    {
      "cell_type": "markdown",
      "metadata": {
        "id": "PdGz9QjIUKIc"
      },
      "source": [
        "## Read in the trial data\n",
        "Run the following cell, and explore the trial data."
      ]
    },
    {
      "cell_type": "code",
      "execution_count": 2,
      "metadata": {
        "id": "HWoKItf7UKId",
        "outputId": "80698e54-dafe-4588-ce92-0365b5cfc8eb",
        "colab": {
          "base_uri": "https://localhost:8080/",
          "height": 423
        }
      },
      "outputs": [
        {
          "output_type": "execute_result",
          "data": {
            "text/plain": [
              "    cell_id  seafloor_depth  water_temperature strength_of_current  \\\n",
              "0         0     3581.873017          21.006783            moderate   \n",
              "1         1      715.353815          11.553155              strong   \n",
              "2         2     2805.869109          10.707339            moderate   \n",
              "3         3     1154.116879          16.352951              strong   \n",
              "4         4     1363.089831          12.815914            moderate   \n",
              "..      ...             ...                ...                 ...   \n",
              "95       95     2659.833294          13.119218              strong   \n",
              "96       96     1032.545545          15.699824                weak   \n",
              "97       97     3883.862643          17.163361            moderate   \n",
              "98       98      504.397526          10.698066                weak   \n",
              "99       99     2564.698389          18.361401                weak   \n",
              "\n",
              "   seafloor_composition  outcome  \n",
              "0                  sand        1  \n",
              "1                  rock        1  \n",
              "2                  sand        1  \n",
              "3                   mud        0  \n",
              "4                   mud        1  \n",
              "..                  ...      ...  \n",
              "95                 sand        1  \n",
              "96                 sand        0  \n",
              "97                  mud        0  \n",
              "98                 rock        1  \n",
              "99                 sand        0  \n",
              "\n",
              "[100 rows x 6 columns]"
            ],
            "text/html": [
              "\n",
              "  <div id=\"df-cb948de3-1edf-45d8-9bfa-08b3b8ac42ec\">\n",
              "    <div class=\"colab-df-container\">\n",
              "      <div>\n",
              "<style scoped>\n",
              "    .dataframe tbody tr th:only-of-type {\n",
              "        vertical-align: middle;\n",
              "    }\n",
              "\n",
              "    .dataframe tbody tr th {\n",
              "        vertical-align: top;\n",
              "    }\n",
              "\n",
              "    .dataframe thead th {\n",
              "        text-align: right;\n",
              "    }\n",
              "</style>\n",
              "<table border=\"1\" class=\"dataframe\">\n",
              "  <thead>\n",
              "    <tr style=\"text-align: right;\">\n",
              "      <th></th>\n",
              "      <th>cell_id</th>\n",
              "      <th>seafloor_depth</th>\n",
              "      <th>water_temperature</th>\n",
              "      <th>strength_of_current</th>\n",
              "      <th>seafloor_composition</th>\n",
              "      <th>outcome</th>\n",
              "    </tr>\n",
              "  </thead>\n",
              "  <tbody>\n",
              "    <tr>\n",
              "      <th>0</th>\n",
              "      <td>0</td>\n",
              "      <td>3581.873017</td>\n",
              "      <td>21.006783</td>\n",
              "      <td>moderate</td>\n",
              "      <td>sand</td>\n",
              "      <td>1</td>\n",
              "    </tr>\n",
              "    <tr>\n",
              "      <th>1</th>\n",
              "      <td>1</td>\n",
              "      <td>715.353815</td>\n",
              "      <td>11.553155</td>\n",
              "      <td>strong</td>\n",
              "      <td>rock</td>\n",
              "      <td>1</td>\n",
              "    </tr>\n",
              "    <tr>\n",
              "      <th>2</th>\n",
              "      <td>2</td>\n",
              "      <td>2805.869109</td>\n",
              "      <td>10.707339</td>\n",
              "      <td>moderate</td>\n",
              "      <td>sand</td>\n",
              "      <td>1</td>\n",
              "    </tr>\n",
              "    <tr>\n",
              "      <th>3</th>\n",
              "      <td>3</td>\n",
              "      <td>1154.116879</td>\n",
              "      <td>16.352951</td>\n",
              "      <td>strong</td>\n",
              "      <td>mud</td>\n",
              "      <td>0</td>\n",
              "    </tr>\n",
              "    <tr>\n",
              "      <th>4</th>\n",
              "      <td>4</td>\n",
              "      <td>1363.089831</td>\n",
              "      <td>12.815914</td>\n",
              "      <td>moderate</td>\n",
              "      <td>mud</td>\n",
              "      <td>1</td>\n",
              "    </tr>\n",
              "    <tr>\n",
              "      <th>...</th>\n",
              "      <td>...</td>\n",
              "      <td>...</td>\n",
              "      <td>...</td>\n",
              "      <td>...</td>\n",
              "      <td>...</td>\n",
              "      <td>...</td>\n",
              "    </tr>\n",
              "    <tr>\n",
              "      <th>95</th>\n",
              "      <td>95</td>\n",
              "      <td>2659.833294</td>\n",
              "      <td>13.119218</td>\n",
              "      <td>strong</td>\n",
              "      <td>sand</td>\n",
              "      <td>1</td>\n",
              "    </tr>\n",
              "    <tr>\n",
              "      <th>96</th>\n",
              "      <td>96</td>\n",
              "      <td>1032.545545</td>\n",
              "      <td>15.699824</td>\n",
              "      <td>weak</td>\n",
              "      <td>sand</td>\n",
              "      <td>0</td>\n",
              "    </tr>\n",
              "    <tr>\n",
              "      <th>97</th>\n",
              "      <td>97</td>\n",
              "      <td>3883.862643</td>\n",
              "      <td>17.163361</td>\n",
              "      <td>moderate</td>\n",
              "      <td>mud</td>\n",
              "      <td>0</td>\n",
              "    </tr>\n",
              "    <tr>\n",
              "      <th>98</th>\n",
              "      <td>98</td>\n",
              "      <td>504.397526</td>\n",
              "      <td>10.698066</td>\n",
              "      <td>weak</td>\n",
              "      <td>rock</td>\n",
              "      <td>1</td>\n",
              "    </tr>\n",
              "    <tr>\n",
              "      <th>99</th>\n",
              "      <td>99</td>\n",
              "      <td>2564.698389</td>\n",
              "      <td>18.361401</td>\n",
              "      <td>weak</td>\n",
              "      <td>sand</td>\n",
              "      <td>0</td>\n",
              "    </tr>\n",
              "  </tbody>\n",
              "</table>\n",
              "<p>100 rows × 6 columns</p>\n",
              "</div>\n",
              "      <button class=\"colab-df-convert\" onclick=\"convertToInteractive('df-cb948de3-1edf-45d8-9bfa-08b3b8ac42ec')\"\n",
              "              title=\"Convert this dataframe to an interactive table.\"\n",
              "              style=\"display:none;\">\n",
              "        \n",
              "  <svg xmlns=\"http://www.w3.org/2000/svg\" height=\"24px\"viewBox=\"0 0 24 24\"\n",
              "       width=\"24px\">\n",
              "    <path d=\"M0 0h24v24H0V0z\" fill=\"none\"/>\n",
              "    <path d=\"M18.56 5.44l.94 2.06.94-2.06 2.06-.94-2.06-.94-.94-2.06-.94 2.06-2.06.94zm-11 1L8.5 8.5l.94-2.06 2.06-.94-2.06-.94L8.5 2.5l-.94 2.06-2.06.94zm10 10l.94 2.06.94-2.06 2.06-.94-2.06-.94-.94-2.06-.94 2.06-2.06.94z\"/><path d=\"M17.41 7.96l-1.37-1.37c-.4-.4-.92-.59-1.43-.59-.52 0-1.04.2-1.43.59L10.3 9.45l-7.72 7.72c-.78.78-.78 2.05 0 2.83L4 21.41c.39.39.9.59 1.41.59.51 0 1.02-.2 1.41-.59l7.78-7.78 2.81-2.81c.8-.78.8-2.07 0-2.86zM5.41 20L4 18.59l7.72-7.72 1.47 1.35L5.41 20z\"/>\n",
              "  </svg>\n",
              "      </button>\n",
              "      \n",
              "  <style>\n",
              "    .colab-df-container {\n",
              "      display:flex;\n",
              "      flex-wrap:wrap;\n",
              "      gap: 12px;\n",
              "    }\n",
              "\n",
              "    .colab-df-convert {\n",
              "      background-color: #E8F0FE;\n",
              "      border: none;\n",
              "      border-radius: 50%;\n",
              "      cursor: pointer;\n",
              "      display: none;\n",
              "      fill: #1967D2;\n",
              "      height: 32px;\n",
              "      padding: 0 0 0 0;\n",
              "      width: 32px;\n",
              "    }\n",
              "\n",
              "    .colab-df-convert:hover {\n",
              "      background-color: #E2EBFA;\n",
              "      box-shadow: 0px 1px 2px rgba(60, 64, 67, 0.3), 0px 1px 3px 1px rgba(60, 64, 67, 0.15);\n",
              "      fill: #174EA6;\n",
              "    }\n",
              "\n",
              "    [theme=dark] .colab-df-convert {\n",
              "      background-color: #3B4455;\n",
              "      fill: #D2E3FC;\n",
              "    }\n",
              "\n",
              "    [theme=dark] .colab-df-convert:hover {\n",
              "      background-color: #434B5C;\n",
              "      box-shadow: 0px 1px 3px 1px rgba(0, 0, 0, 0.15);\n",
              "      filter: drop-shadow(0px 1px 2px rgba(0, 0, 0, 0.3));\n",
              "      fill: #FFFFFF;\n",
              "    }\n",
              "  </style>\n",
              "\n",
              "      <script>\n",
              "        const buttonEl =\n",
              "          document.querySelector('#df-cb948de3-1edf-45d8-9bfa-08b3b8ac42ec button.colab-df-convert');\n",
              "        buttonEl.style.display =\n",
              "          google.colab.kernel.accessAllowed ? 'block' : 'none';\n",
              "\n",
              "        async function convertToInteractive(key) {\n",
              "          const element = document.querySelector('#df-cb948de3-1edf-45d8-9bfa-08b3b8ac42ec');\n",
              "          const dataTable =\n",
              "            await google.colab.kernel.invokeFunction('convertToInteractive',\n",
              "                                                     [key], {});\n",
              "          if (!dataTable) return;\n",
              "\n",
              "          const docLinkHtml = 'Like what you see? Visit the ' +\n",
              "            '<a target=\"_blank\" href=https://colab.research.google.com/notebooks/data_table.ipynb>data table notebook</a>'\n",
              "            + ' to learn more about interactive tables.';\n",
              "          element.innerHTML = '';\n",
              "          dataTable['output_type'] = 'display_data';\n",
              "          await google.colab.output.renderOutput(dataTable, element);\n",
              "          const docLink = document.createElement('div');\n",
              "          docLink.innerHTML = docLinkHtml;\n",
              "          element.appendChild(docLink);\n",
              "        }\n",
              "      </script>\n",
              "    </div>\n",
              "  </div>\n",
              "  "
            ]
          },
          "metadata": {},
          "execution_count": 2
        }
      ],
      "source": [
        "df_logreg_trials = pd.read_csv('logreg_trial_cells.csv')\n",
        "df_logreg_trials"
      ]
    },
    {
      "cell_type": "markdown",
      "metadata": {
        "id": "fHzIUqIAUKIf"
      },
      "source": [
        "## Learn how to preprocess features with `scikit-learn`\n",
        "\n",
        "Review the code in following cell carefully where we have provided code that takes a `Pandas` dataframe, and turns it into a `numpy` array corresponding to a scaled (samples $\\times$ features)-covariate matrix $X$. "
      ]
    },
    {
      "cell_type": "code",
      "execution_count": 3,
      "metadata": {
        "id": "IWTMTvrpUKIg",
        "outputId": "9407c70c-2ebf-4bf7-c986-56361b5defca",
        "colab": {
          "base_uri": "https://localhost:8080/"
        }
      },
      "outputs": [
        {
          "output_type": "stream",
          "name": "stdout",
          "text": [
            "Shape of covariate matrix X: (100, 6)\n"
          ]
        }
      ],
      "source": [
        "from sklearn.compose import ColumnTransformer\n",
        "from sklearn.preprocessing import StandardScaler, OneHotEncoder, OrdinalEncoder\n",
        "from sklearn.pipeline import Pipeline\n",
        "\n",
        "\n",
        "def get_preprocessor(continuous_cols, categorical_cols, ordinal_cols, ordinal_categories):\n",
        "    \"\"\" Returns a preprocessor object that can be used in a scikit-learn Pipeline.\n",
        "\n",
        "    Args:\n",
        "        continuous_cols (list): list of column names for continuous features\n",
        "        categorical_cols (list): list of column names for categorical features\n",
        "        ordinal_cols (list): list of column names for ordinal features\n",
        "        ordinal_categories (list): list of lists of categories for ordinal features\n",
        "    \n",
        "    Returns:\n",
        "        preprocessor (ColumnTransformer): preprocessor object that can be used in a scikit-learn Pipeline\n",
        "    \"\"\"\n",
        "    continuous_transformer = Pipeline(steps=[\n",
        "        ('scaler', StandardScaler())\n",
        "    ])\n",
        "    \n",
        "    categorical_transformer = Pipeline(steps=[\n",
        "        ('onehot', OneHotEncoder(handle_unknown='ignore'))\n",
        "    ])\n",
        "    \n",
        "    ordinal_transformer = Pipeline(steps=[\n",
        "        ('ordinal', OrdinalEncoder(categories=ordinal_categories))\n",
        "    ])\n",
        "    \n",
        "    # Combine transformers into a single ColumnTransformer\n",
        "    preprocessor = ColumnTransformer(transformers=[\n",
        "        ('continuous', continuous_transformer, continuous_cols),\n",
        "        ('categorical', categorical_transformer, categorical_cols),\n",
        "        ('ordinal', ordinal_transformer, ordinal_cols)\n",
        "    ])\n",
        "    \n",
        "    return preprocessor\n",
        "\n",
        "continuous_cols = ['seafloor_depth', 'water_temperature']\n",
        "categorical_cols = ['seafloor_composition']\n",
        "ordinal_cols = ['strength_of_current']\n",
        "ordinal_categories = [['weak', 'moderate', 'strong']]\n",
        "\n",
        "preprocessor = get_preprocessor(continuous_cols, categorical_cols, ordinal_cols, ordinal_categories)\n",
        "\n",
        "X = preprocessor.fit_transform(df_logreg_trials)\n",
        "\n",
        "print(\"Shape of covariate matrix X:\", X.shape)"
      ]
    },
    {
      "cell_type": "markdown",
      "metadata": {
        "id": "d6wh3fSrUKIi"
      },
      "source": [
        "## Question 1 [Code review, write] (5pts)\n",
        "1) Explain why the shape of the covariate matrix above is (100, 6). Specifically, what do the 6 features correspond to? \n",
        "\n",
        "___\n",
        "The $100$ rows come from the $100$ datapoints.\n",
        "\n",
        "The $6$ rows correspond to our post-transformation covariates:\n",
        "\n",
        "* `seafloor_depth` and `water_temperature` are continuous and remain as-is with one column each.\n",
        "* `seafloor_composition` is categorical, and is split into one column for each of its three values - mud, rock and sand.\n",
        "* `strength_of_current` is ordinal. While the values of its entries are changed to reflect an order among them, it still only takes one column.\n",
        "___"
      ]
    },
    {
      "cell_type": "markdown",
      "metadata": {
        "id": "XxOBkCDsUKIj"
      },
      "source": [
        "## Learn more about the scikit-learn `Pipeline`\n",
        "\n",
        "The last cell used the scikit-learn `Pipeline` to define a preprocessor that takes in a dataframe and outputs covariate matrix. In the following cell, we provide code that creates a more sophisticated `Pipeline`, which further accepts a desired degree of polynomial expansion and again outputs a covariate matrix. Study the code carefully."
      ]
    },
    {
      "cell_type": "code",
      "execution_count": 4,
      "metadata": {
        "id": "sd9Vl7KYUKIj",
        "outputId": "aeff9a78-9ba8-438e-db8e-74c9c56aa2bd",
        "colab": {
          "base_uri": "https://localhost:8080/"
        }
      },
      "outputs": [
        {
          "output_type": "stream",
          "name": "stdout",
          "text": [
            "(100, 28)\n"
          ]
        }
      ],
      "source": [
        "from sklearn.preprocessing import PolynomialFeatures\n",
        "\n",
        "def get_pipeline(preprocessor, poly_degree=1):\n",
        "    \"\"\" Returns a scikit-learn Pipeline object consisting of a preprocessor and polynomial feature transformer.\n",
        "    \n",
        "    Args:\n",
        "        preprocessor (ColumnTransformer): preprocessor object that can be used in a scikit-learn Pipeline\n",
        "        poly_degree (int): degree of polynomial features to generate\n",
        "    \"\"\"\n",
        "    pipeline = Pipeline(steps=[\n",
        "        ('preprocessor', preprocessor),\n",
        "        ('polynomial', PolynomialFeatures(degree=poly_degree, include_bias=True))\n",
        "    ])\n",
        "    return pipeline\n",
        "\n",
        "pipeline = get_pipeline(preprocessor, poly_degree=2)\n",
        "X = pipeline.fit_transform(df_logreg_trials)\n",
        "print(X.shape)"
      ]
    },
    {
      "cell_type": "markdown",
      "metadata": {
        "id": "K2h3i_OSUKIk"
      },
      "source": [
        "## Question 2 [Code review, write] (10pts)\n",
        "1) Explain why the shape of the covariate matrix above is (100, 28). Specifically, what do the 28 features correspond to? In this case, do not list the name of each feature. Instead, provide a concise mathematical description of why there are 28 features.\n",
        "\n",
        "___\n",
        "\n",
        "The $28$ features correspond to all sub-quadratic monomials with variables corresponding to the original six.\n",
        "* There is only one monomial of degree zero.\n",
        "* Given $n$ variables, we can construct $n$ degree-one monomials.\n",
        "* Given $n$ variables, we can construct ${n\\choose 2}+n=\\frac{n\\left(n+1\\right)}{2}$ degree-two monomials. The first summand comes out of all the ways to choose two distinct variables, while the second covers the option of choosing a quadratic term for one variable.\n",
        "\n",
        "Putting everything together, we have:\n",
        "$$1+6+\\frac{6\\cdot7}{2}=28$$\n",
        "\n",
        "The desired number of columns.\n",
        "___"
      ]
    },
    {
      "cell_type": "markdown",
      "metadata": {
        "id": "OM7x8xO9UKIk"
      },
      "source": [
        "## Learn to use `LogisticRegression` in scikit-learn\n",
        "Study the following code carefully. At a high-level this code:\n",
        "\n",
        "* Preprocesses the data into two `numpy` arrays: $\\boldsymbol{y}, \\boldsymbol{X}$ \n",
        "* Defines a scikit-learn `LogisticRegression` model with no regularization\n",
        "* Fits the model to the data and computes the training **accuracy** and **negative log loss**\n",
        "* Defines a scikit-learn `KFold` object for cross-validation\n",
        "* Computes the average cross validation accuracy and negative log loss across the K folds"
      ]
    },
    {
      "cell_type": "code",
      "execution_count": 5,
      "metadata": {
        "id": "uGm678pSUKIl",
        "outputId": "0d082503-26dd-4d36-dd84-13f0eee6ccac",
        "colab": {
          "base_uri": "https://localhost:8080/"
        }
      },
      "outputs": [
        {
          "output_type": "stream",
          "name": "stderr",
          "text": [
            "/usr/local/lib/python3.9/dist-packages/sklearn/linear_model/_logistic.py:1173: FutureWarning: `penalty='none'`has been deprecated in 1.2 and will be removed in 1.4. To keep the past behaviour, set `penalty=None`.\n",
            "  warnings.warn(\n"
          ]
        },
        {
          "output_type": "stream",
          "name": "stdout",
          "text": [
            "Training accuracy: 0.97\n",
            "Training negative log loss: -0.14\n",
            "Average k-fold accuracy: 0.53\n",
            "Average k-fold negative log loss: -2.46\n"
          ]
        }
      ],
      "source": [
        "from sklearn.linear_model import LogisticRegression\n",
        "from sklearn.metrics import accuracy_score, log_loss\n",
        "from sklearn.model_selection import KFold, cross_val_score\n",
        "\n",
        "# binary outcomes\n",
        "y = df_logreg_trials['outcome'].values\n",
        "\n",
        "# degree-5 polynomial features\n",
        "degree = 5\n",
        "pipeline = get_pipeline(preprocessor, poly_degree=degree)\n",
        "X = pipeline.fit_transform(df_logreg_trials)\n",
        "\n",
        "# define logreg model with no regularization, saga solver, and 10,000 iterations\n",
        "logreg = LogisticRegression(penalty='none', solver='saga', max_iter=10000)\n",
        "\n",
        "# fit model to data\n",
        "logreg.fit(X, y)\n",
        "\n",
        "# calculate accuracy on training data\n",
        "y_pred = logreg.predict(X)\n",
        "train_accuracy = accuracy_score(y, y_pred)\n",
        "\n",
        "# calculate negative log loss on training data\n",
        "y_prob = logreg.predict_proba(X)\n",
        "train_neg_log_loss = -log_loss(y, y_prob)\n",
        "\n",
        "print('Training accuracy: {:.2f}'.format(train_accuracy))\n",
        "print('Training negative log loss: {:.2f}'.format(train_neg_log_loss))\n",
        "\n",
        "# define k-fold cross-validation\n",
        "kfold = KFold(n_splits=10, shuffle=True)\n",
        "\n",
        "# calculate average cross-validation accuracy across K folds\n",
        "avg_kfold_accuracy = cross_val_score(logreg, X, y, cv=kfold, scoring='accuracy', n_jobs=-1).mean()\n",
        "print('Average k-fold accuracy: {:.2f}'.format(avg_kfold_accuracy))\n",
        "\n",
        "# calculate average cross-validation negative log loss across K folds\n",
        "avg_kfold_neg_log_loss = cross_val_score(logreg, X, y, cv=kfold, scoring='neg_log_loss', n_jobs=-1).mean()\n",
        "print('Average k-fold negative log loss: {:.2f}'.format(avg_kfold_neg_log_loss))\n"
      ]
    },
    {
      "cell_type": "markdown",
      "metadata": {
        "id": "upzEVYhUUKIm"
      },
      "source": [
        "## Question 3 [Code review, write, math] (10pts)\n",
        "1) Explain why there might be a difference between the training versus cross validation accuracy (or negative log loss).\n",
        "\n",
        "___\n",
        "\n",
        "We expect the training accuracy to be better, as we test the model on the same data it's trained on rather than on fresh data (the holdout set).\n",
        "___\n",
        "\n",
        "2) Write in mathematical form exactly what `-log_loss(y, y_prob)` computes. Your equation should be in terms of the SEPs $q_k$.\n",
        "___\n",
        "\n",
        "This is:\n",
        "$$-\\sum_{k=1}^K\\left(y_k\\log\\left(\\widehat{q_k}\\right)+\\left(1-y_k\\right)\\log\\left(1-\\widehat{q_k}\\right)\\right)$$\n",
        "\n",
        "___"
      ]
    },
    {
      "cell_type": "markdown",
      "metadata": {
        "id": "GWSsvTziUKIm"
      },
      "source": [
        "## Question 4 [Code] (10pts)\n",
        "\n",
        "Using what you have learned about how to preprocess data, fit a log-reg model, and use K-fold cross validation...\n",
        "\n",
        "1) Write code in the following cell that loops through polynomial degrees 1...5, and for each:\n",
        "    * Prepocesses the data using polynomial feature expansions of the given degree\n",
        "    * Fits a single unregularized logistic regression model\n",
        "    * Calculates and saves its training accuracy and negative log loss\n",
        "    * Creates a K-fold cross validation object\n",
        "    * Calculates and saves the average cross-validation accuracy and negative log loss across K folds\n",
        "\n",
        " \n",
        "2) Plot the results\n",
        "    * A plot depicting training versus average cross-validation **accuracy (y-axis)** as a function of **polynomial degree (x-axis)**\n",
        "    * A plot depicting training versus average cross-validation **negative log loss (y-axis)** as a function of **polynomial degree (x-axis)**\n",
        "\n",
        "\n"
      ]
    },
    {
      "cell_type": "code",
      "execution_count": 12,
      "metadata": {
        "id": "vzH5_2l3UKIn",
        "outputId": "b1651388-6c78-4ad9-a5f6-888608f70203",
        "colab": {
          "base_uri": "https://localhost:8080/",
          "height": 1000,
          "referenced_widgets": [
            "1eb0412cc39c4170a6eae316e863c81e",
            "d821a85ac0d5433392a3813e7412df4e",
            "9b439e4c5fe8403ab485411a1542ecf0",
            "4cd8050b1e954e1a8e385a33cf00de64",
            "4c756874593a44e9b3a685780523722d",
            "20fa1248f8344c239aab041999f22413",
            "7db0cf2b31b740a4a1cd0d59c8bbd911",
            "4233c29c20c846859a448fd70adec5b9",
            "af9cd35b71e34cf39427a38a061ab417",
            "b5b946e6ed514f38b89f5e4ce75bb784",
            "31d5d73972c5476cbda69a4f8ba9f552"
          ]
        }
      },
      "outputs": [
        {
          "output_type": "display_data",
          "data": {
            "text/plain": [
              "  0%|          | 0/5 [00:00<?, ?it/s]"
            ],
            "application/vnd.jupyter.widget-view+json": {
              "version_major": 2,
              "version_minor": 0,
              "model_id": "1eb0412cc39c4170a6eae316e863c81e"
            }
          },
          "metadata": {}
        },
        {
          "output_type": "stream",
          "name": "stderr",
          "text": [
            "/usr/local/lib/python3.9/dist-packages/sklearn/linear_model/_logistic.py:1173: FutureWarning: `penalty='none'`has been deprecated in 1.2 and will be removed in 1.4. To keep the past behaviour, set `penalty=None`.\n",
            "  warnings.warn(\n",
            "/usr/local/lib/python3.9/dist-packages/sklearn/linear_model/_logistic.py:1173: FutureWarning: `penalty='none'`has been deprecated in 1.2 and will be removed in 1.4. To keep the past behaviour, set `penalty=None`.\n",
            "  warnings.warn(\n",
            "/usr/local/lib/python3.9/dist-packages/sklearn/linear_model/_logistic.py:1173: FutureWarning: `penalty='none'`has been deprecated in 1.2 and will be removed in 1.4. To keep the past behaviour, set `penalty=None`.\n",
            "  warnings.warn(\n",
            "/usr/local/lib/python3.9/dist-packages/sklearn/linear_model/_logistic.py:1173: FutureWarning: `penalty='none'`has been deprecated in 1.2 and will be removed in 1.4. To keep the past behaviour, set `penalty=None`.\n",
            "  warnings.warn(\n",
            "/usr/local/lib/python3.9/dist-packages/sklearn/linear_model/_logistic.py:1173: FutureWarning: `penalty='none'`has been deprecated in 1.2 and will be removed in 1.4. To keep the past behaviour, set `penalty=None`.\n",
            "  warnings.warn(\n"
          ]
        },
        {
          "output_type": "execute_result",
          "data": {
            "text/plain": [
              "<matplotlib.legend.Legend at 0x7f93f850a7c0>"
            ]
          },
          "metadata": {},
          "execution_count": 12
        },
        {
          "output_type": "display_data",
          "data": {
            "text/plain": [
              "<Figure size 640x480 with 1 Axes>"
            ],
            "image/png": "[encoded data removed]"
          },
          "metadata": {}
        },
        {
          "output_type": "display_data",
          "data": {
            "text/plain": [
              "<Figure size 640x480 with 1 Axes>"
            ],
            "image/png": "[encoded data removed]"
          },
          "metadata": {}
        }
      ],
      "source": [
        "# define the range of polynomial degrees to test\n",
        "degrees = list(range(1, 6))\n",
        "\n",
        "# creating variables to store information\n",
        "train_accs = np.zeros(5)\n",
        "train_neg_log_losses = np.zeros(5)\n",
        "avg_kfold_accs = np.zeros(5)\n",
        "avg_kfold_neg_log_losses = np.zeros(5)\n",
        "\n",
        "# iterate through each degree, preprocess X, fit model and K-fold CV, calculate training vs kfold accuracy and neg_log_loss\n",
        "for degree in tqdm(degrees):\n",
        "    pipeline = get_pipeline(preprocessor, poly_degree=degree)\n",
        "    X = pipeline.fit_transform(df_logreg_trials)\n",
        "\n",
        "    logreg = LogisticRegression(penalty='none', solver='saga', max_iter=10000)\n",
        "    logreg.fit(X, y)\n",
        "\n",
        "    y_pred = logreg.predict(X)\n",
        "    train_accs[degree-1] = accuracy_score(y, y_pred)\n",
        "\n",
        "    y_prob = logreg.predict_proba(X)\n",
        "    train_neg_log_losses[degree-1] = -log_loss(y, y_prob)\n",
        "\n",
        "    kfold = KFold(n_splits=10, shuffle=True)\n",
        "    avg_kfold_accs[degree-1] = cross_val_score(logreg, X, y, cv=kfold, scoring='accuracy', n_jobs=-1).mean()\n",
        "    avg_kfold_neg_log_losses[degree-1] = cross_val_score(logreg, X, y, cv=kfold, scoring='neg_log_loss', n_jobs=-1).mean()\n",
        "\n",
        "# Plot the results: training versus k-fold CV accuracy (y-axis) as a function of degree (x-axis)\n",
        "plt.figure(1)\n",
        "plt.plot(degrees, train_accs)\n",
        "plt.plot(degrees, avg_kfold_accs)\n",
        "plt.xticks(degrees)\n",
        "plt.legend(('Training accuracy', 'k-fold CV accuracy'), loc='best')\n",
        "\n",
        "# Plot the results: training versus k-fold CV negative log-loss (y-axis) as a function of degree (x-axis)\n",
        "plt.figure(2)\n",
        "plt.plot(degrees, train_neg_log_losses)\n",
        "plt.plot(degrees, avg_kfold_neg_log_losses)\n",
        "plt.xticks(degrees)\n",
        "plt.legend(('Training negative log loss', 'k-fold CV negative log loss'), loc='best')"
      ]
    },
    {
      "cell_type": "markdown",
      "metadata": {
        "id": "7dBTUgC2UKIn"
      },
      "source": [
        "## Question 5 [Write] (5pts)\n",
        "Reflect on the above plots you have generated. What are some conclusions you might draw from them?\n",
        "\n",
        "___\n",
        "\n",
        "As we increase the degree, the training accuracy and log loss improve, which is to be expected as adding covariates always reduces a GLM's lest squares error, regardless of whether the added covariates hold any real world meaning.\n",
        "\n",
        "In contrast, the opposite happens for k-fold cross-validation, with the exception of an uptick for the negative log loss at degree $5$. This suggests that the CV accuracy and negative log loss might be more sensitive to the addition of superfluous covariates to the model.\n",
        "\n",
        "___"
      ]
    },
    {
      "cell_type": "markdown",
      "metadata": {
        "id": "5LQB-1TrUKIo"
      },
      "source": [
        "## Learn to use `GridSearchCV`\n",
        "In the following cell, we have provided code that uses `GridSearchCV` to perform a grid search over the best-performing combination of \n",
        "* polynomial degree (`degree` = [1...5]) $\\times$\n",
        "* regularization type (`l1` versus `l2`) $\\times$\n",
        "* regularization strength (`C`=[0.1...5])\n",
        "\n",
        "The code finds the logreg model with the lowest cross-validation log loss."
      ]
    },
    {
      "cell_type": "code",
      "execution_count": 7,
      "metadata": {
        "id": "nL4ncvquUKIo",
        "outputId": "5c26ac71-acf3-4658-95a1-5c9122eaafeb",
        "colab": {
          "base_uri": "https://localhost:8080/"
        }
      },
      "outputs": [
        {
          "output_type": "stream",
          "name": "stdout",
          "text": [
            "Best parameters found:  {'classifier__C': 0.25, 'classifier__penalty': 'l1', 'polynomial__degree': 3}\n",
            "Best CV negative log loss:  -0.6309941139046172\n"
          ]
        }
      ],
      "source": [
        "from sklearn.model_selection import GridSearchCV\n",
        "\n",
        "# Create a pipeline for the whole process\n",
        "pipeline = Pipeline([\n",
        "        ('preprocessor', preprocessor),\n",
        "        ('polynomial', PolynomialFeatures(include_bias=True)),\n",
        "        ('classifier', LogisticRegression(solver='saga', max_iter=10000))\n",
        "    ])\n",
        "\n",
        "# Define the parameter grid for GridSearchCV\n",
        "param_grid = {\n",
        "    'polynomial__degree': [1, 2, 3, 4, 5],\n",
        "    'classifier__C': [0.1, 0.25, 0.5, 0.75, 1, 2, 5],\n",
        "    'classifier__penalty': ['l1', 'l2']\n",
        "}\n",
        "\n",
        "# Use GridSearchCV to find the best combination of parameters and fit the data\n",
        "grid_search = GridSearchCV(pipeline, param_grid, cv=5, scoring='neg_log_loss', refit=True)\n",
        "grid_search.fit(df_logreg_trials, y)\n",
        "\n",
        "# Print the best parameters and score\n",
        "print(\"Best parameters found: \", grid_search.best_params_)\n",
        "print(\"Best CV negative log loss: \", grid_search.best_score_)\n",
        "\n",
        "# Save the best model as best_model\n",
        "best_model = grid_search.best_estimator_"
      ]
    },
    {
      "cell_type": "markdown",
      "metadata": {
        "id": "HQJkr_6JUKIp"
      },
      "source": [
        "## Question 6 [Code] (10pts)\n",
        "In this question, you will use the results of grid search above. In the cell below, write code that:\n",
        "\n",
        "1) Uses the best-performing model to calculate the SEPs for all trial cells.\n",
        "\n",
        "2) Plots a histogram of the estimated SEPs."
      ]
    },
    {
      "cell_type": "code",
      "execution_count": 8,
      "metadata": {
        "id": "0w2pavSeUKIq",
        "outputId": "a5981156-bbae-4457-85a1-f147c80b6a7b",
        "colab": {
          "base_uri": "https://localhost:8080/",
          "height": 517
        }
      },
      "outputs": [
        {
          "output_type": "execute_result",
          "data": {
            "text/plain": [
              "(array([ 4.,  2., 10., 29., 17., 14.,  3.,  7.,  6.,  8.]),\n",
              " array([0.16509037, 0.24237079, 0.3196512 , 0.39693161, 0.47421203,\n",
              "        0.55149244, 0.62877285, 0.70605327, 0.78333368, 0.8606141 ,\n",
              "        0.93789451]),\n",
              " <BarContainer object of 10 artists>)"
            ]
          },
          "metadata": {},
          "execution_count": 8
        },
        {
          "output_type": "display_data",
          "data": {
            "text/plain": [
              "<Figure size 640x480 with 1 Axes>"
            ],
            "image/png": "[encoded data removed]"
          },
          "metadata": {}
        }
      ],
      "source": [
        "# Use the best CV model to calculate the SEPs for all trial cells\n",
        "\n",
        "seps = best_model.predict_proba(df_logreg_trials)[:,0]\n",
        "\n",
        "# Plot a histogram of the SEPS\n",
        "\n",
        "plt.hist(seps)"
      ]
    },
    {
      "cell_type": "markdown",
      "metadata": {
        "id": "Fc3u9rDmUKIq"
      },
      "source": [
        "# Part II: Beta-binomial updating and empirical Bayes\n",
        "\n",
        "In this second part, we will approach the problem differently. Instead of using covariates to share information across cells, we will assume that all SEPs come from a **shared prior distribution** $q_k \\stackrel{\\textrm{iid}}{\\sim}P(q)$. \n",
        "\n",
        "This part also incorporates the possibility of multiple trials $N_k$ per cell. The outcome data is now\n",
        "\\begin{align}\n",
        "y_k &\\in \\{0,\\dots, N_k\\}&\\textrm{ the number of successful trials}\n",
        "\\end{align}\n",
        "\n",
        "We will assume the following beta-binomial model:\n",
        "\n",
        "\\begin{align}\n",
        "q_k &\\stackrel{\\textrm{iid}}{\\sim} \\textrm{Beta}(a_0,\\,b_0) \\\\\n",
        "y_k &\\stackrel{\\textrm{ind.}}{\\sim} \\textrm{Binom}(N_k,\\, q_k)\n",
        "\\end{align}\n",
        "\n",
        "In this model, we assume the SEPs $q_k$ across all cells $k$ were drawn from a shared beta distribution with shape parameters $a_0$ and $b_0$. The number of successes $y_k$ conditioned on the number of trials $N_k$ and $q_k$ is then binomially-distributed.\n",
        "\n",
        "Put another way, this implies the following **marginal likelihood** for the trial data:\n",
        "\n",
        "\\begin{align}\n",
        "P(\\boldsymbol{y}_{1:K} \\mid \\boldsymbol{N}_{1:K}, a_0,\\,b_0\\,) &= \\prod_{k=1}^K P(y_k \\mid N_k, a_0,\\,b_0\\,) \\\\\n",
        "&= \\prod_{k=1}^K \\int \\underbrace{P(y_k \\mid N_k,\\, q_k)}_{\\textrm{Binom}(y_k; N_k\\,q_k)} \\, \\underbrace{P(q_k \\mid a_0,\\, b_0)}_{\\textrm{Beta}(q_k;a_0,\\,b_0)}\\,dq_k\n",
        "\\end{align}"
      ]
    },
    {
      "cell_type": "markdown",
      "metadata": {
        "id": "q3YqcCAEUKIr"
      },
      "source": [
        "## Question 7 [Math] (10pts)\n",
        "1) Provide an analytic expression (i.e., without any integrals) for the negative log marginal likelihood:\n",
        "\\begin{equation}\n",
        "-\\log P(\\boldsymbol{y}_{1:K} \\mid \\boldsymbol{N}_{1:K}, a_0,\\,b_0\\,) = -\\sum_{k=1}^K\\log\\int P\\left(y_k\\mid N_k,q_k\\right)P\\left(q_k\\mid a_0,b_0\\right)dq_k\\\\= -\\sum_{k=1}^K\\log\\int {N_k\\choose y_k}q_k^{y_k}\\left(1-q_k\\right)^{N_k-y_k}\\frac{\\Gamma\\left(a_0+b_0\\right)}{\\Gamma\\left(a_0\\right)\\Gamma\\left(b_0\\right)}q_k^{a_0-1}\\left(1-q_k\\right)^{b_0-1}dq_k\\\\=-\\sum_{k=1}^K\\log\\left[{N_k\\choose y_k}\\frac{\\Gamma\\left(a_0+b_0\\right)}{\\Gamma\\left(a_0\\right)\\Gamma\\left(b_0\\right)}\\frac{\\Gamma\\left(y_k+a_0\\right)\\Gamma\\left(N_k-y_k+b_0\\right)}{\\Gamma\\left(N_k+a_0+b_0\\right)}\\underbrace{\\int\\frac{\\Gamma\\left(N_k+a_0+b_0\\right)}{\\Gamma\\left(y_k+a_0\\right)\\Gamma\\left(N_k-y_k+b_0\\right)}q_k^{y_k+a_0-1}\\left(1-q_k\\right)^{N_k-y_k+b_0-1}dq_k}_{=1\\text{ as the density integral of Beta}\\left(y_k+a_0,N_k-y_k+b_0\\right)}\\right]\\\\\n",
        "=K\\log\\left(\\frac{\\Gamma\\left(a_0\\right)\\Gamma\\left(b_0\\right)}{\\Gamma\\left(a_0+b_0\\right)}\\right)-\\sum_{k=1}^K\\left[\\log\\left({N_k\\choose y_k}\\right)+\\log\\left(\\frac{\\Gamma\\left(y_k+a_0\\right)\\Gamma\\left(N_k-y_k+b_0\\right)}{\\Gamma\\left(N_k+a_0+b_0\\right)}\\right)\\right]\n",
        "\\end{equation}\n",
        "\n",
        "2) Briefly explain how you came to this expression.\n",
        "\n",
        "___\n",
        "\n",
        "Direct computation.\n",
        "\n",
        "___"
      ]
    },
    {
      "cell_type": "markdown",
      "metadata": {
        "id": "3GeQdRbIUKIr"
      },
      "source": [
        "## Question 8 [Code] (15pts)\n",
        "\n",
        "In this question, you will learn to use `scipy.optimize.minimize` to minimize a custom function. Make sure to read the [documentation](https://docs.scipy.org/doc/scipy/reference/generated/scipy.optimize.minimize.html) and to experiment with different settings.\n",
        "\n",
        "Write the following code in the cell below:\n",
        "\n",
        "1) Implement a function to compute the negative log marginal likelihood. Your function can use **any** functions available in the `numpy` or `scipy` Python libraries.\n",
        "\n",
        "\n",
        "2) Implement a function that estimates the parameters $a_0, b_0$ using type-II maximum likelihood by minimizing your function `neg_log_marginal_likelihood` using `scipy.optimize.minimize`"
      ]
    },
    {
      "cell_type": "code",
      "execution_count": 9,
      "metadata": {
        "id": "Y9DKaRFYUKIs"
      },
      "outputs": [],
      "source": [
        "from scipy.optimize import minimize\n",
        "\n",
        "def neg_log_marginal_likelihood(params, y, n):\n",
        "    \"\"\" Calculate the negative log-marginal likelihood for the beta-binomial model.\n",
        "    \n",
        "    Args:\n",
        "        params (tuple): the parameters of the marginal likelihood (a0, b0)\n",
        "        y (array): the number of successes for each trial\n",
        "        n (array): the number of trials\n",
        "    \n",
        "    Returns:\n",
        "        float: the negative log-marginal likelihood\n",
        "    \"\"\"\n",
        "    a0, b0 = params\n",
        "\n",
        "    # Your code here\n",
        "\n",
        "    neg_log_marginal_likelihood = -st.betabinom.logpmf(y, n, a0, b0).sum()\n",
        "\n",
        "    return neg_log_marginal_likelihood\n",
        "\n",
        "def fit_marginal_likelihood(y, n):\n",
        "    \"\"\" Fit the parameters of the marginal likelihood to the data using maximum likelihood.\n",
        "\n",
        "    Uses scipy.optimize.minimize and calls neg_log_marginal_likelihood.\n",
        "\n",
        "    Args:\n",
        "        y (array): the number of successes for each trial\n",
        "        n (array): the number of trials\n",
        "        \n",
        "        If you add other args, describe them here.\n",
        "    \n",
        "    Returns:\n",
        "        tuple: the MLE for a0 and b0\n",
        "    \"\"\"\n",
        "    \n",
        "    # Your code here\n",
        "    a0_mle, b0_mle = opt.minimize(neg_log_marginal_likelihood, x0=(1, 1), args=(y, n)).x\n",
        "\n",
        "    return a0_mle, b0_mle"
      ]
    },
    {
      "cell_type": "markdown",
      "metadata": {
        "id": "CdwONeq6UKIs"
      },
      "source": [
        "## Run your code on the trial data\n",
        "\n",
        "Run the following code, which:\n",
        "1) Loads the trial data. Note that this time, we have multiple trials per cell $N_k$ (`n_trials`) and potentially multiple successes per cell $y_k$ (`n_successes`)\n",
        "\n",
        "2) Runs your `fit_marginal_likelihood` function on the data. Make sure to modify this line if your function takes additional arguments\n",
        "\n",
        "3) Plots the estimated **empirical prior**.\n"
      ]
    },
    {
      "cell_type": "code",
      "execution_count": 10,
      "metadata": {
        "id": "ZqlOCa3_UKIs",
        "outputId": "a5856e8a-27f4-44d1-ab2f-2846e20699c8",
        "colab": {
          "base_uri": "https://localhost:8080/",
          "height": 489
        }
      },
      "outputs": [
        {
          "output_type": "stream",
          "name": "stdout",
          "text": [
            "3.7857743261144 4.604624496958918\n"
          ]
        },
        {
          "output_type": "display_data",
          "data": {
            "text/plain": [
              "<Figure size 640x480 with 1 Axes>"
            ],
            "image/png": "[encoded data removed]"
          },
          "metadata": {}
        }
      ],
      "source": [
        "# load in the beta-binomial trial data\n",
        "df_trials = pd.read_csv('betabin_trial_cells.csv')\n",
        "y = df_trials['n_successes'].values\n",
        "n = df_trials['n_trials'].values\n",
        "\n",
        "# if your fit_marginal_likelihood function takes extra args, modify this code to pass them in here.\n",
        "a0_mle, b0_mle = fit_marginal_likelihood(y, n)\n",
        "print(a0_mle, b0_mle)\n",
        "\n",
        "# plot the empirical prior beta distribution\n",
        "x_axis_vals = np.linspace(0, 1, 100)\n",
        "y_axis_vals = st.beta.pdf(x_axis_vals, a0_mle, b0_mle)\n",
        "_ = plt.plot(x_axis_vals, y_axis_vals, color='Green')\n",
        "_ = plt.fill_between(x_axis_vals, y_axis_vals, alpha=0.2, color='Green')\n",
        "_ = plt.title('Empirical Prior Beta Distribution')\n",
        "_ = plt.xlabel('SEP')\n",
        "_ = plt.ylabel('density')"
      ]
    },
    {
      "cell_type": "markdown",
      "metadata": {
        "id": "zO1KOQdIUKIt"
      },
      "source": [
        "## Question 9 [Math] (10pts)\n",
        "\n",
        "1) Provide the form of the posterior over cell $k$'s SEP $q_k$, conditioned on the number of trials $N_k$ and successes $y_k$ in the cell, and the estimated parameters $\\hat{a_0}$, $\\hat{b_0}$:\n",
        "\\begin{equation}\n",
        "P(q_k \\mid y_k,\\, N_k,\\,\\hat{a_0}, \\hat{b_0}) = \\text{Beta}\\left(y_k+\\widehat{a_0},N_k-y_k+\\widehat{b_0}\\right)=q_k^{y_k+\\widehat{a_0}-1}\\left(1-q_k\\right)^{N_k-y_k+\\widehat{b_0}-1}\\cdot\\frac{\\Gamma\\left(N_k+\\widehat{a_0}+\\widehat{b_0}\\right)}{\\Gamma\\left(y_k+\\widehat{a_0}\\right)\\Gamma\\left(N_k-y_k+\\widehat{b_0}\\right)}\n",
        "\\end{equation}\n",
        "\n",
        "2) Provide the form of the posterior expectation\n",
        "\\begin{equation}\n",
        "E[q_k \\mid y_k,\\, N_k,\\,\\hat{a_0}, \\hat{b_0}] = \\frac{y_k+\\widehat{a_0}}{N_k+\\widehat{a_0}+\\widehat{b_0}}\n",
        "\\end{equation}"
      ]
    },
    {
      "cell_type": "markdown",
      "metadata": {
        "id": "R7CoArL0UKIt"
      },
      "source": [
        "## Question 10 [Code] (5pts)\n",
        "1) Implement a function to compute the posterior expectation above.\n",
        "\n",
        "2) Compute the posterior expectation of $q_k$ for all trial cells.\n",
        "\n",
        "3) Plot a histogram of the estimated SEPs. (Run the code)"
      ]
    },
    {
      "cell_type": "code",
      "execution_count": 14,
      "metadata": {
        "id": "Bl6BYLvTUKIu",
        "outputId": "d2a10e7e-0c6b-49cf-bb42-9ede86582c29",
        "colab": {
          "base_uri": "https://localhost:8080/",
          "height": 430
        }
      },
      "outputs": [
        {
          "output_type": "display_data",
          "data": {
            "text/plain": [
              "<Figure size 640x480 with 1 Axes>"
            ],
            "image/png": "[encoded data removed]"
          },
          "metadata": {}
        }
      ],
      "source": [
        "def posterior_expectation(y, n, a0, b0):\n",
        "    \"\"\" Calculate the posterior expectation of SEP.\n",
        "\n",
        "    Args:\n",
        "        y (array): the number of successes for each trial\n",
        "        n (array): the number of trials\n",
        "        a0 (float): the prior alpha parameter\n",
        "        b0 (float): the prior beta parameter\n",
        "    \n",
        "    Returns:\n",
        "        array: the posterior expectation of SEP\n",
        "    \"\"\"\n",
        "    # Your code here\n",
        "    estimated_SEP = (y+a0)/(n+a0+b0)\n",
        "    return estimated_SEP\n",
        "\n",
        "estimated_SEP = posterior_expectation(y, n, a0_mle, b0_mle)\n",
        "_ = plt.hist(estimated_SEP)"
      ]
    },
    {
      "cell_type": "markdown",
      "metadata": {
        "id": "2dwhBcatUKIu"
      },
      "source": [
        "## Question [Write] (10pts) \n",
        "\n",
        "1) Reflect on the pros and cons of the two approaches we used to estimate SEPs (supervised learning and posterior updating). Under what conditions might we  prefer one over the other?\n",
        "\n",
        "___\n",
        "\n",
        "Supervised learning requires no prior assumptions or domain knowledge, and just makes use of the data at hand in order to make estimates. This may free us from these necessities and from the risk of having grossly incorrect prior assumptions affect our results, but by refitting many models to the same data we run the risk of selective inference, overfitting the model to the data and potentially sabotaging future predictive power. This approach may be preferred when we have a large pool of data to sample from to avoid said risk, and little domain knowledge or low confidence in said knowledge.\n",
        "\n",
        "Posterior updating inverts this picture - by using our domain knowledge we have some idea of where to start with and do not run such a high risk of selective inference, but our priors might bias us toward very wrong results if our initial assumptions are far away from the ground truth. The computational cost of this method might also be quite high due to having to simulate our parameters. This approach may be preferred when we have a lot of high quality domain knowledge, and relatively fewer datapoints to work with. It is also useful when it is reasonable to assume some underlying distribution from which all the different cells are sampled.\n",
        "\n",
        "___\n",
        "\n",
        "2) Reflect on how we might combine these approaches. Describe a third approach that would combine elements of both:\n",
        "\n",
        "___\n",
        "\n",
        "\n",
        "\n",
        "___\n"
      ]
    }
  ],
  "metadata": {
    "colab": {
      "provenance": [],
      "include_colab_link": true
    },
    "kernelspec": {
      "display_name": "base",
      "language": "python",
      "name": "python3"
    },
    "language_info": {
      "codemirror_mode": {
        "name": "ipython",
        "version": 3
      },
      "file_extension": ".py",
      "mimetype": "text/x-python",
      "name": "python",
      "nbconvert_exporter": "python",
      "pygments_lexer": "ipython3",
      "version": "3.9.13"
    },
    "vscode": {
      "interpreter": {
        "hash": "e31d8529818713d98a38061e476a303cb7aebfe46db2981fe05de46bbfa528ef"
      }
    },
    "widgets": {
      "application/vnd.jupyter.widget-state+json": {
        "1eb0412cc39c4170a6eae316e863c81e": {
          "model_module": "@jupyter-widgets/controls",
          "model_name": "HBoxModel",
          "model_module_version": "1.5.0",
          "state": {
            "_dom_classes": [],
            "_model_module": "@jupyter-widgets/controls",
            "_model_module_version": "1.5.0",
            "_model_name": "HBoxModel",
            "_view_count": null,
            "_view_module": "@jupyter-widgets/controls",
            "_view_module_version": "1.5.0",
            "_view_name": "HBoxView",
            "box_style": "",
            "children": [
              "IPY_MODEL_d821a85ac0d5433392a3813e7412df4e",
              "IPY_MODEL_9b439e4c5fe8403ab485411a1542ecf0",
              "IPY_MODEL_4cd8050b1e954e1a8e385a33cf00de64"
            ],
            "layout": "IPY_MODEL_4c756874593a44e9b3a685780523722d"
          }
        },
        "d821a85ac0d5433392a3813e7412df4e": {
          "model_module": "@jupyter-widgets/controls",
          "model_name": "HTMLModel",
          "model_module_version": "1.5.0",
          "state": {
            "_dom_classes": [],
            "_model_module": "@jupyter-widgets/controls",
            "_model_module_version": "1.5.0",
            "_model_name": "HTMLModel",
            "_view_count": null,
            "_view_module": "@jupyter-widgets/controls",
            "_view_module_version": "1.5.0",
            "_view_name": "HTMLView",
            "description": "",
            "description_tooltip": null,
            "layout": "IPY_MODEL_20fa1248f8344c239aab041999f22413",
            "placeholder": "​",
            "style": "IPY_MODEL_7db0cf2b31b740a4a1cd0d59c8bbd911",
            "value": "100%"
          }
        },
        "9b439e4c5fe8403ab485411a1542ecf0": {
          "model_module": "@jupyter-widgets/controls",
          "model_name": "FloatProgressModel",
          "model_module_version": "1.5.0",
          "state": {
            "_dom_classes": [],
            "_model_module": "@jupyter-widgets/controls",
            "_model_module_version": "1.5.0",
            "_model_name": "FloatProgressModel",
            "_view_count": null,
            "_view_module": "@jupyter-widgets/controls",
            "_view_module_version": "1.5.0",
            "_view_name": "ProgressView",
            "bar_style": "success",
            "description": "",
            "description_tooltip": null,
            "layout": "IPY_MODEL_4233c29c20c846859a448fd70adec5b9",
            "max": 5,
            "min": 0,
            "orientation": "horizontal",
            "style": "IPY_MODEL_af9cd35b71e34cf39427a38a061ab417",
            "value": 5
          }
        },
        "4cd8050b1e954e1a8e385a33cf00de64": {
          "model_module": "@jupyter-widgets/controls",
          "model_name": "HTMLModel",
          "model_module_version": "1.5.0",
          "state": {
            "_dom_classes": [],
            "_model_module": "@jupyter-widgets/controls",
            "_model_module_version": "1.5.0",
            "_model_name": "HTMLModel",
            "_view_count": null,
            "_view_module": "@jupyter-widgets/controls",
            "_view_module_version": "1.5.0",
            "_view_name": "HTMLView",
            "description": "",
            "description_tooltip": null,
            "layout": "IPY_MODEL_b5b946e6ed514f38b89f5e4ce75bb784",
            "placeholder": "​",
            "style": "IPY_MODEL_31d5d73972c5476cbda69a4f8ba9f552",
            "value": " 5/5 [08:20&lt;00:00, 147.09s/it]"
          }
        },
        "4c756874593a44e9b3a685780523722d": {
          "model_module": "@jupyter-widgets/base",
          "model_name": "LayoutModel",
          "model_module_version": "1.2.0",
          "state": {
            "_model_module": "@jupyter-widgets/base",
            "_model_module_version": "1.2.0",
            "_model_name": "LayoutModel",
            "_view_count": null,
            "_view_module": "@jupyter-widgets/base",
            "_view_module_version": "1.2.0",
            "_view_name": "LayoutView",
            "align_content": null,
            "align_items": null,
            "align_self": null,
            "border": null,
            "bottom": null,
            "display": null,
            "flex": null,
            "flex_flow": null,
            "grid_area": null,
            "grid_auto_columns": null,
            "grid_auto_flow": null,
            "grid_auto_rows": null,
            "grid_column": null,
            "grid_gap": null,
            "grid_row": null,
            "grid_template_areas": null,
            "grid_template_columns": null,
            "grid_template_rows": null,
            "height": null,
            "justify_content": null,
            "justify_items": null,
            "left": null,
            "margin": null,
            "max_height": null,
            "max_width": null,
            "min_height": null,
            "min_width": null,
            "object_fit": null,
            "object_position": null,
            "order": null,
            "overflow": null,
            "overflow_x": null,
            "overflow_y": null,
            "padding": null,
            "right": null,
            "top": null,
            "visibility": null,
            "width": null
          }
        },
        "20fa1248f8344c239aab041999f22413": {
          "model_module": "@jupyter-widgets/base",
          "model_name": "LayoutModel",
          "model_module_version": "1.2.0",
          "state": {
            "_model_module": "@jupyter-widgets/base",
            "_model_module_version": "1.2.0",
            "_model_name": "LayoutModel",
            "_view_count": null,
            "_view_module": "@jupyter-widgets/base",
            "_view_module_version": "1.2.0",
            "_view_name": "LayoutView",
            "align_content": null,
            "align_items": null,
            "align_self": null,
            "border": null,
            "bottom": null,
            "display": null,
            "flex": null,
            "flex_flow": null,
            "grid_area": null,
            "grid_auto_columns": null,
            "grid_auto_flow": null,
            "grid_auto_rows": null,
            "grid_column": null,
            "grid_gap": null,
            "grid_row": null,
            "grid_template_areas": null,
            "grid_template_columns": null,
            "grid_template_rows": null,
            "height": null,
            "justify_content": null,
            "justify_items": null,
            "left": null,
            "margin": null,
            "max_height": null,
            "max_width": null,
            "min_height": null,
            "min_width": null,
            "object_fit": null,
            "object_position": null,
            "order": null,
            "overflow": null,
            "overflow_x": null,
            "overflow_y": null,
            "padding": null,
            "right": null,
            "top": null,
            "visibility": null,
            "width": null
          }
        },
        "7db0cf2b31b740a4a1cd0d59c8bbd911": {
          "model_module": "@jupyter-widgets/controls",
          "model_name": "DescriptionStyleModel",
          "model_module_version": "1.5.0",
          "state": {
            "_model_module": "@jupyter-widgets/controls",
            "_model_module_version": "1.5.0",
            "_model_name": "DescriptionStyleModel",
            "_view_count": null,
            "_view_module": "@jupyter-widgets/base",
            "_view_module_version": "1.2.0",
            "_view_name": "StyleView",
            "description_width": ""
          }
        },
        "4233c29c20c846859a448fd70adec5b9": {
          "model_module": "@jupyter-widgets/base",
          "model_name": "LayoutModel",
          "model_module_version": "1.2.0",
          "state": {
            "_model_module": "@jupyter-widgets/base",
            "_model_module_version": "1.2.0",
            "_model_name": "LayoutModel",
            "_view_count": null,
            "_view_module": "@jupyter-widgets/base",
            "_view_module_version": "1.2.0",
            "_view_name": "LayoutView",
            "align_content": null,
            "align_items": null,
            "align_self": null,
            "border": null,
            "bottom": null,
            "display": null,
            "flex": null,
            "flex_flow": null,
            "grid_area": null,
            "grid_auto_columns": null,
            "grid_auto_flow": null,
            "grid_auto_rows": null,
            "grid_column": null,
            "grid_gap": null,
            "grid_row": null,
            "grid_template_areas": null,
            "grid_template_columns": null,
            "grid_template_rows": null,
            "height": null,
            "justify_content": null,
            "justify_items": null,
            "left": null,
            "margin": null,
            "max_height": null,
            "max_width": null,
            "min_height": null,
            "min_width": null,
            "object_fit": null,
            "object_position": null,
            "order": null,
            "overflow": null,
            "overflow_x": null,
            "overflow_y": null,
            "padding": null,
            "right": null,
            "top": null,
            "visibility": null,
            "width": null
          }
        },
        "af9cd35b71e34cf39427a38a061ab417": {
          "model_module": "@jupyter-widgets/controls",
          "model_name": "ProgressStyleModel",
          "model_module_version": "1.5.0",
          "state": {
            "_model_module": "@jupyter-widgets/controls",
            "_model_module_version": "1.5.0",
            "_model_name": "ProgressStyleModel",
            "_view_count": null,
            "_view_module": "@jupyter-widgets/base",
            "_view_module_version": "1.2.0",
            "_view_name": "StyleView",
            "bar_color": null,
            "description_width": ""
          }
        },
        "b5b946e6ed514f38b89f5e4ce75bb784": {
          "model_module": "@jupyter-widgets/base",
          "model_name": "LayoutModel",
          "model_module_version": "1.2.0",
          "state": {
            "_model_module": "@jupyter-widgets/base",
            "_model_module_version": "1.2.0",
            "_model_name": "LayoutModel",
            "_view_count": null,
            "_view_module": "@jupyter-widgets/base",
            "_view_module_version": "1.2.0",
            "_view_name": "LayoutView",
            "align_content": null,
            "align_items": null,
            "align_self": null,
            "border": null,
            "bottom": null,
            "display": null,
            "flex": null,
            "flex_flow": null,
            "grid_area": null,
            "grid_auto_columns": null,
            "grid_auto_flow": null,
            "grid_auto_rows": null,
            "grid_column": null,
            "grid_gap": null,
            "grid_row": null,
            "grid_template_areas": null,
            "grid_template_columns": null,
            "grid_template_rows": null,
            "height": null,
            "justify_content": null,
            "justify_items": null,
            "left": null,
            "margin": null,
            "max_height": null,
            "max_width": null,
            "min_height": null,
            "min_width": null,
            "object_fit": null,
            "object_position": null,
            "order": null,
            "overflow": null,
            "overflow_x": null,
            "overflow_y": null,
            "padding": null,
            "right": null,
            "top": null,
            "visibility": null,
            "width": null
          }
        },
        "31d5d73972c5476cbda69a4f8ba9f552": {
          "model_module": "@jupyter-widgets/controls",
          "model_name": "DescriptionStyleModel",
          "model_module_version": "1.5.0",
          "state": {
            "_model_module": "@jupyter-widgets/controls",
            "_model_module_version": "1.5.0",
            "_model_name": "DescriptionStyleModel",
            "_view_count": null,
            "_view_module": "@jupyter-widgets/base",
            "_view_module_version": "1.2.0",
            "_view_name": "StyleView",
            "description_width": ""
          }
        }
      }
    }
  },
  "nbformat": 4,
  "nbformat_minor": 0
}